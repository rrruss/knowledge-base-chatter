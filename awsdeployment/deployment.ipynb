{
 "cells": [
  {
   "cell_type": "markdown",
   "id": "c31cd858",
   "metadata": {},
   "source": [
    "## Deploying the knowledge retriever"
   ]
  },
  {
   "cell_type": "code",
   "execution_count": 1,
   "id": "6028c401",
   "metadata": {},
   "outputs": [],
   "source": [
    "import tarfile\n",
    "\n",
    "import sagemaker\n",
    "import torch\n",
    "import torch.nn as nn\n",
    "from sagemaker import get_execution_role\n",
    "from sagemaker.pytorch import PyTorch as PyTorchEstimator, PyTorchModel"
   ]
  },
  {
   "cell_type": "markdown",
   "id": "301cbabd",
   "metadata": {},
   "source": [
    "### Set-up"
   ]
  },
  {
   "cell_type": "code",
   "execution_count": 6,
   "id": "24af8fca",
   "metadata": {},
   "outputs": [],
   "source": [
    "session = sagemaker.Session()\n",
    "role = get_execution_role()"
   ]
  },
  {
   "cell_type": "code",
   "execution_count": 8,
   "id": "e0657de4",
   "metadata": {},
   "outputs": [],
   "source": [
    "artifact = 's3://kbchatter/simple/model.tar.gz'"
   ]
  },
  {
   "cell_type": "markdown",
   "id": "2d298762",
   "metadata": {},
   "source": [
    "### Deploy the model from S3 (using code in code/inference.py)"
   ]
  },
  {
   "cell_type": "code",
   "execution_count": 16,
   "id": "f91e2dab",
   "metadata": {},
   "outputs": [],
   "source": [
    "pytorch_model = PyTorchModel(model_data=artifact,\n",
    "                             role=role,\n",
    "                             framework_version='1.6.0',\n",
    "                             py_version='py3',\n",
    "                             entry_point='knowledge-base-chatter/awsdeployment/code/predict.py',\n",
    "                             source_dir='knowledge-base-chatter/awsdeployment/code',\n",
    "                             dependencies=[\n",
    "                                 'knowledge-base-chatter/awsdeployment/code/contexts.json',\n",
    "                                 'knowledge-base-chatter/models/retrievalmodel.py'  # not in dir for some reason\n",
    "                             ],\n",
    "                             )"
   ]
  },
  {
   "cell_type": "code",
   "execution_count": 17,
   "id": "0962093f",
   "metadata": {},
   "outputs": [
    {
     "name": "stdout",
     "output_type": "stream",
     "text": [
      "-------------------!"
     ]
    }
   ],
   "source": [
    "predictor = pytorch_model.deploy(instance_type='ml.p3.2xlarge',  # 'ml.c4.xlarge',\n",
    "                                 initial_instance_count=1,\n",
    "                                 wait=True)"
   ]
  },
  {
   "cell_type": "code",
   "execution_count": 18,
   "id": "444c9a2b",
   "metadata": {},
   "outputs": [
    {
     "name": "stderr",
     "output_type": "stream",
     "text": [
      "The endpoint attribute has been renamed in sagemaker>=2.\n",
      "See: https://sagemaker.readthedocs.io/en/stable/v2.html for details.\n"
     ]
    },
    {
     "data": {
      "text/plain": [
       "'pytorch-inference-2021-07-08-12-26-56-007'"
      ]
     },
     "execution_count": 18,
     "metadata": {},
     "output_type": "execute_result"
    }
   ],
   "source": [
    "predictor.endpoint  # for lambda"
   ]
  },
  {
   "cell_type": "code",
   "execution_count": 19,
   "id": "d384509d",
   "metadata": {},
   "outputs": [],
   "source": [
    "predictor.serializer = sagemaker.serializers.JSONSerializer()\n",
    "predictor.deserializer = sagemaker.deserializers.JSONDeserializer()"
   ]
  },
  {
   "cell_type": "code",
   "execution_count": 23,
   "id": "10070c71",
   "metadata": {},
   "outputs": [
    {
     "name": "stdout",
     "output_type": "stream",
     "text": [
      "['how run an executive question and answer ( ama ) session to run an executive ama in slack : create a new channel called # exec - ama. announce it in channels with your largest membership and encourage everyone to join. post a policy document to help guide employees in formatting their questions, and pin it to the channel. set a helpful tone with', 'how do i delete a channel in slack? [SEP] whats send information into a google sheet handy for? : keep track of the information collected by your workflow by automatically sending it to a google sheet. this might come in handy for things like tracking help desk requests, collecting continuous feedback, or managing a nomination process. a few uses for this workflow : sales : gathering ongoing customer feedbackproduct : collecting product feedbackmarketing : tracking incoming requeststeam leaders : archiving employee feedback, recognition, and projectsanyone can trigger this workflow through the shortcuts menu, which then prompts them to fill out a form, and sends that information to a google sheet in real time.. to send information into a google sheet get started : install the google sheets app for slackdownload the examplenavigate to workflow builder and select importonce imported, edit the workflow to make sense for your', 'how do i delete a channel in slack? [SEP] whats get feedback, no meeting required handy for? : this workflow helps drive decisions and share information when meetings are hard to orchestrate. it allows people to review ideas and submit feedback on their own time. a few uses for this workflow : content writers : ask for volunteers to edit your upcoming post. designers : get people to evaluate your latest explorations. marketing : solicit reviews of the new pitch deck. youll create a workflow that triggers when someone reacts with an emoji of your choice. the workflow will then use slackbot to dm step - by - step instructions for reviewing the information and gathering feedback using a form. this allows your team to review during different hours when you need to be flexible, but still drive the decisions needed to get work done.. to get feedback, no meeting required get started : download the examplenavigate to workflow builder and select importonce imported, edit the workflow to make sense for your', 'how do i delete a channel in slack? [SEP] get feedback, no meeting required tip uses : slack features. get feedback, no meeting required prep : under 10 mins. get feedback, no meeting required slack skill level : intermediate. get feedback, no meeting required results', 'your user profile, and encourage others to check user profiles before dming them or scheduling meetings. if youd like a dedicated tool for visually displaying time zones of']\n"
     ]
    }
   ],
   "source": [
    "print(predictor.predict({'question': 'How do I delete a channel in Slack?'}))  # need to convert output/input to json for lambda"
   ]
  },
  {
   "cell_type": "markdown",
   "id": "6b300a98",
   "metadata": {},
   "source": [
    "## Delete the model and endpoint"
   ]
  },
  {
   "cell_type": "code",
   "execution_count": 24,
   "id": "f7fcc9cf",
   "metadata": {},
   "outputs": [],
   "source": [
    "pytorch_model.delete_model()"
   ]
  },
  {
   "cell_type": "code",
   "execution_count": 25,
   "id": "cabb2cb1",
   "metadata": {},
   "outputs": [],
   "source": [
    "predictor.delete_endpoint()"
   ]
  },
  {
   "cell_type": "code",
   "execution_count": null,
   "id": "bdaca28e",
   "metadata": {},
   "outputs": [],
   "source": []
  }
 ],
 "metadata": {
  "kernelspec": {
   "display_name": "conda_pytorch_latest_p36",
   "language": "python",
   "name": "conda_pytorch_latest_p36"
  },
  "language_info": {
   "codemirror_mode": {
    "name": "ipython",
    "version": 3
   },
   "file_extension": ".py",
   "mimetype": "text/x-python",
   "name": "python",
   "nbconvert_exporter": "python",
   "pygments_lexer": "ipython3",
   "version": "3.6.13"
  }
 },
 "nbformat": 4,
 "nbformat_minor": 5
}
